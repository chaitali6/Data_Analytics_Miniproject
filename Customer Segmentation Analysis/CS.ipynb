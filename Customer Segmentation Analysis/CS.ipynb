{
 "cells": [
  {
   "cell_type": "code",
   "execution_count": 6,
   "metadata": {},
   "outputs": [],
   "source": [
    "import numpy as np # linear algebra\n",
    "import pandas as pd # data processing, CSV file I/O (e.g. pd.read_csv)\n",
    "import warnings\n",
    "warnings.filterwarnings(\"ignore\")\n",
    "import seaborn as sns\n",
    "import matplotlib.pyplot as plt\n",
    "from scipy.stats import pointbiserialr"
   ]
  },
  {
   "cell_type": "code",
   "execution_count": 4,
   "metadata": {},
   "outputs": [],
   "source": [
    "data = pd.read_csv(\"C:/Users/Chaitali/Anaconda3/envs/PROJECT OF DANC/Customer Segmentation Analysis/ifood_df.csv\")\n"
   ]
  },
  {
   "cell_type": "code",
   "execution_count": 5,
   "metadata": {},
   "outputs": [
    {
     "data": {
      "text/html": [
       "<div>\n",
       "<style scoped>\n",
       "    .dataframe tbody tr th:only-of-type {\n",
       "        vertical-align: middle;\n",
       "    }\n",
       "\n",
       "    .dataframe tbody tr th {\n",
       "        vertical-align: top;\n",
       "    }\n",
       "\n",
       "    .dataframe thead th {\n",
       "        text-align: right;\n",
       "    }\n",
       "</style>\n",
       "<table border=\"1\" class=\"dataframe\">\n",
       "  <thead>\n",
       "    <tr style=\"text-align: right;\">\n",
       "      <th></th>\n",
       "      <th>Income</th>\n",
       "      <th>Kidhome</th>\n",
       "      <th>Teenhome</th>\n",
       "      <th>Recency</th>\n",
       "      <th>MntWines</th>\n",
       "      <th>MntFruits</th>\n",
       "      <th>MntMeatProducts</th>\n",
       "      <th>MntFishProducts</th>\n",
       "      <th>MntSweetProducts</th>\n",
       "      <th>MntGoldProds</th>\n",
       "      <th>...</th>\n",
       "      <th>marital_Together</th>\n",
       "      <th>marital_Widow</th>\n",
       "      <th>education_2n Cycle</th>\n",
       "      <th>education_Basic</th>\n",
       "      <th>education_Graduation</th>\n",
       "      <th>education_Master</th>\n",
       "      <th>education_PhD</th>\n",
       "      <th>MntTotal</th>\n",
       "      <th>MntRegularProds</th>\n",
       "      <th>AcceptedCmpOverall</th>\n",
       "    </tr>\n",
       "  </thead>\n",
       "  <tbody>\n",
       "    <tr>\n",
       "      <th>0</th>\n",
       "      <td>58138.0</td>\n",
       "      <td>0</td>\n",
       "      <td>0</td>\n",
       "      <td>58</td>\n",
       "      <td>635</td>\n",
       "      <td>88</td>\n",
       "      <td>546</td>\n",
       "      <td>172</td>\n",
       "      <td>88</td>\n",
       "      <td>88</td>\n",
       "      <td>...</td>\n",
       "      <td>0</td>\n",
       "      <td>0</td>\n",
       "      <td>0</td>\n",
       "      <td>0</td>\n",
       "      <td>1</td>\n",
       "      <td>0</td>\n",
       "      <td>0</td>\n",
       "      <td>1529</td>\n",
       "      <td>1441</td>\n",
       "      <td>0</td>\n",
       "    </tr>\n",
       "    <tr>\n",
       "      <th>1</th>\n",
       "      <td>46344.0</td>\n",
       "      <td>1</td>\n",
       "      <td>1</td>\n",
       "      <td>38</td>\n",
       "      <td>11</td>\n",
       "      <td>1</td>\n",
       "      <td>6</td>\n",
       "      <td>2</td>\n",
       "      <td>1</td>\n",
       "      <td>6</td>\n",
       "      <td>...</td>\n",
       "      <td>0</td>\n",
       "      <td>0</td>\n",
       "      <td>0</td>\n",
       "      <td>0</td>\n",
       "      <td>1</td>\n",
       "      <td>0</td>\n",
       "      <td>0</td>\n",
       "      <td>21</td>\n",
       "      <td>15</td>\n",
       "      <td>0</td>\n",
       "    </tr>\n",
       "    <tr>\n",
       "      <th>2</th>\n",
       "      <td>71613.0</td>\n",
       "      <td>0</td>\n",
       "      <td>0</td>\n",
       "      <td>26</td>\n",
       "      <td>426</td>\n",
       "      <td>49</td>\n",
       "      <td>127</td>\n",
       "      <td>111</td>\n",
       "      <td>21</td>\n",
       "      <td>42</td>\n",
       "      <td>...</td>\n",
       "      <td>1</td>\n",
       "      <td>0</td>\n",
       "      <td>0</td>\n",
       "      <td>0</td>\n",
       "      <td>1</td>\n",
       "      <td>0</td>\n",
       "      <td>0</td>\n",
       "      <td>734</td>\n",
       "      <td>692</td>\n",
       "      <td>0</td>\n",
       "    </tr>\n",
       "    <tr>\n",
       "      <th>3</th>\n",
       "      <td>26646.0</td>\n",
       "      <td>1</td>\n",
       "      <td>0</td>\n",
       "      <td>26</td>\n",
       "      <td>11</td>\n",
       "      <td>4</td>\n",
       "      <td>20</td>\n",
       "      <td>10</td>\n",
       "      <td>3</td>\n",
       "      <td>5</td>\n",
       "      <td>...</td>\n",
       "      <td>1</td>\n",
       "      <td>0</td>\n",
       "      <td>0</td>\n",
       "      <td>0</td>\n",
       "      <td>1</td>\n",
       "      <td>0</td>\n",
       "      <td>0</td>\n",
       "      <td>48</td>\n",
       "      <td>43</td>\n",
       "      <td>0</td>\n",
       "    </tr>\n",
       "    <tr>\n",
       "      <th>4</th>\n",
       "      <td>58293.0</td>\n",
       "      <td>1</td>\n",
       "      <td>0</td>\n",
       "      <td>94</td>\n",
       "      <td>173</td>\n",
       "      <td>43</td>\n",
       "      <td>118</td>\n",
       "      <td>46</td>\n",
       "      <td>27</td>\n",
       "      <td>15</td>\n",
       "      <td>...</td>\n",
       "      <td>0</td>\n",
       "      <td>0</td>\n",
       "      <td>0</td>\n",
       "      <td>0</td>\n",
       "      <td>0</td>\n",
       "      <td>0</td>\n",
       "      <td>1</td>\n",
       "      <td>407</td>\n",
       "      <td>392</td>\n",
       "      <td>0</td>\n",
       "    </tr>\n",
       "  </tbody>\n",
       "</table>\n",
       "<p>5 rows × 39 columns</p>\n",
       "</div>"
      ],
      "text/plain": [
       "    Income  Kidhome  Teenhome  Recency  MntWines  MntFruits  MntMeatProducts  \\\n",
       "0  58138.0        0         0       58       635         88              546   \n",
       "1  46344.0        1         1       38        11          1                6   \n",
       "2  71613.0        0         0       26       426         49              127   \n",
       "3  26646.0        1         0       26        11          4               20   \n",
       "4  58293.0        1         0       94       173         43              118   \n",
       "\n",
       "   MntFishProducts  MntSweetProducts  MntGoldProds  ...  marital_Together  \\\n",
       "0              172                88            88  ...                 0   \n",
       "1                2                 1             6  ...                 0   \n",
       "2              111                21            42  ...                 1   \n",
       "3               10                 3             5  ...                 1   \n",
       "4               46                27            15  ...                 0   \n",
       "\n",
       "   marital_Widow  education_2n Cycle  education_Basic  education_Graduation  \\\n",
       "0              0                   0                0                     1   \n",
       "1              0                   0                0                     1   \n",
       "2              0                   0                0                     1   \n",
       "3              0                   0                0                     1   \n",
       "4              0                   0                0                     0   \n",
       "\n",
       "   education_Master  education_PhD  MntTotal  MntRegularProds  \\\n",
       "0                 0              0      1529             1441   \n",
       "1                 0              0        21               15   \n",
       "2                 0              0       734              692   \n",
       "3                 0              0        48               43   \n",
       "4                 0              1       407              392   \n",
       "\n",
       "   AcceptedCmpOverall  \n",
       "0                   0  \n",
       "1                   0  \n",
       "2                   0  \n",
       "3                   0  \n",
       "4                   0  \n",
       "\n",
       "[5 rows x 39 columns]"
      ]
     },
     "execution_count": 5,
     "metadata": {},
     "output_type": "execute_result"
    }
   ],
   "source": [
    "data.head()"
   ]
  },
  {
   "cell_type": "markdown",
   "metadata": {},
   "source": [
    "Reviewing data columns and comparing them to the dataset description¶\n",
    "Retrieving the list of actual columns to compare with the column's description in the dictionary.png. The list of columns has been updated and the data description contains actual columns."
   ]
  },
  {
   "cell_type": "code",
   "execution_count": 7,
   "metadata": {},
   "outputs": [
    {
     "data": {
      "text/plain": [
       "Index(['Income', 'Kidhome', 'Teenhome', 'Recency', 'MntWines', 'MntFruits',\n",
       "       'MntMeatProducts', 'MntFishProducts', 'MntSweetProducts',\n",
       "       'MntGoldProds', 'NumDealsPurchases', 'NumWebPurchases',\n",
       "       'NumCatalogPurchases', 'NumStorePurchases', 'NumWebVisitsMonth',\n",
       "       'AcceptedCmp3', 'AcceptedCmp4', 'AcceptedCmp5', 'AcceptedCmp1',\n",
       "       'AcceptedCmp2', 'Complain', 'Z_CostContact', 'Z_Revenue', 'Response',\n",
       "       'Age', 'Customer_Days', 'marital_Divorced', 'marital_Married',\n",
       "       'marital_Single', 'marital_Together', 'marital_Widow',\n",
       "       'education_2n Cycle', 'education_Basic', 'education_Graduation',\n",
       "       'education_Master', 'education_PhD', 'MntTotal', 'MntRegularProds',\n",
       "       'AcceptedCmpOverall'],\n",
       "      dtype='object')"
      ]
     },
     "execution_count": 7,
     "metadata": {},
     "output_type": "execute_result"
    }
   ],
   "source": [
    "data.columns"
   ]
  },
  {
   "cell_type": "code",
   "execution_count": 8,
   "metadata": {},
   "outputs": [
    {
     "data": {
      "text/plain": [
       "Income                  0\n",
       "Kidhome                 0\n",
       "Teenhome                0\n",
       "Recency                 0\n",
       "MntWines                0\n",
       "MntFruits               0\n",
       "MntMeatProducts         0\n",
       "MntFishProducts         0\n",
       "MntSweetProducts        0\n",
       "MntGoldProds            0\n",
       "NumDealsPurchases       0\n",
       "NumWebPurchases         0\n",
       "NumCatalogPurchases     0\n",
       "NumStorePurchases       0\n",
       "NumWebVisitsMonth       0\n",
       "AcceptedCmp3            0\n",
       "AcceptedCmp4            0\n",
       "AcceptedCmp5            0\n",
       "AcceptedCmp1            0\n",
       "AcceptedCmp2            0\n",
       "Complain                0\n",
       "Z_CostContact           0\n",
       "Z_Revenue               0\n",
       "Response                0\n",
       "Age                     0\n",
       "Customer_Days           0\n",
       "marital_Divorced        0\n",
       "marital_Married         0\n",
       "marital_Single          0\n",
       "marital_Together        0\n",
       "marital_Widow           0\n",
       "education_2n Cycle      0\n",
       "education_Basic         0\n",
       "education_Graduation    0\n",
       "education_Master        0\n",
       "education_PhD           0\n",
       "MntTotal                0\n",
       "MntRegularProds         0\n",
       "AcceptedCmpOverall      0\n",
       "dtype: int64"
      ]
     },
     "execution_count": 8,
     "metadata": {},
     "output_type": "execute_result"
    }
   ],
   "source": [
    "data.isna().sum()"
   ]
  },
  {
   "cell_type": "markdown",
   "metadata": {},
   "source": [
    "### Checking column types\n",
    "###### All column types look good. There is no need to change any data types."
   ]
  },
  {
   "cell_type": "code",
   "execution_count": 9,
   "metadata": {},
   "outputs": [
    {
     "name": "stdout",
     "output_type": "stream",
     "text": [
      "<class 'pandas.core.frame.DataFrame'>\n",
      "RangeIndex: 2205 entries, 0 to 2204\n",
      "Data columns (total 39 columns):\n",
      " #   Column                Non-Null Count  Dtype  \n",
      "---  ------                --------------  -----  \n",
      " 0   Income                2205 non-null   float64\n",
      " 1   Kidhome               2205 non-null   int64  \n",
      " 2   Teenhome              2205 non-null   int64  \n",
      " 3   Recency               2205 non-null   int64  \n",
      " 4   MntWines              2205 non-null   int64  \n",
      " 5   MntFruits             2205 non-null   int64  \n",
      " 6   MntMeatProducts       2205 non-null   int64  \n",
      " 7   MntFishProducts       2205 non-null   int64  \n",
      " 8   MntSweetProducts      2205 non-null   int64  \n",
      " 9   MntGoldProds          2205 non-null   int64  \n",
      " 10  NumDealsPurchases     2205 non-null   int64  \n",
      " 11  NumWebPurchases       2205 non-null   int64  \n",
      " 12  NumCatalogPurchases   2205 non-null   int64  \n",
      " 13  NumStorePurchases     2205 non-null   int64  \n",
      " 14  NumWebVisitsMonth     2205 non-null   int64  \n",
      " 15  AcceptedCmp3          2205 non-null   int64  \n",
      " 16  AcceptedCmp4          2205 non-null   int64  \n",
      " 17  AcceptedCmp5          2205 non-null   int64  \n",
      " 18  AcceptedCmp1          2205 non-null   int64  \n",
      " 19  AcceptedCmp2          2205 non-null   int64  \n",
      " 20  Complain              2205 non-null   int64  \n",
      " 21  Z_CostContact         2205 non-null   int64  \n",
      " 22  Z_Revenue             2205 non-null   int64  \n",
      " 23  Response              2205 non-null   int64  \n",
      " 24  Age                   2205 non-null   int64  \n",
      " 25  Customer_Days         2205 non-null   int64  \n",
      " 26  marital_Divorced      2205 non-null   int64  \n",
      " 27  marital_Married       2205 non-null   int64  \n",
      " 28  marital_Single        2205 non-null   int64  \n",
      " 29  marital_Together      2205 non-null   int64  \n",
      " 30  marital_Widow         2205 non-null   int64  \n",
      " 31  education_2n Cycle    2205 non-null   int64  \n",
      " 32  education_Basic       2205 non-null   int64  \n",
      " 33  education_Graduation  2205 non-null   int64  \n",
      " 34  education_Master      2205 non-null   int64  \n",
      " 35  education_PhD         2205 non-null   int64  \n",
      " 36  MntTotal              2205 non-null   int64  \n",
      " 37  MntRegularProds       2205 non-null   int64  \n",
      " 38  AcceptedCmpOverall    2205 non-null   int64  \n",
      "dtypes: float64(1), int64(38)\n",
      "memory usage: 672.0 KB\n"
     ]
    }
   ],
   "source": [
    "data.info()"
   ]
  },
  {
   "cell_type": "markdown",
   "metadata": {},
   "source": [
    "## Assessing unique values\n",
    "#### Let's check the unique values in each column. If a column has the same values then we cannot use this column in our analysis and can remove it from the data frame."
   ]
  },
  {
   "cell_type": "code",
   "execution_count": 10,
   "metadata": {},
   "outputs": [
    {
     "data": {
      "text/plain": [
       "Income                  1963\n",
       "Kidhome                    3\n",
       "Teenhome                   3\n",
       "Recency                  100\n",
       "MntWines                 775\n",
       "MntFruits                158\n",
       "MntMeatProducts          551\n",
       "MntFishProducts          182\n",
       "MntSweetProducts         176\n",
       "MntGoldProds             212\n",
       "NumDealsPurchases         15\n",
       "NumWebPurchases           15\n",
       "NumCatalogPurchases       13\n",
       "NumStorePurchases         14\n",
       "NumWebVisitsMonth         16\n",
       "AcceptedCmp3               2\n",
       "AcceptedCmp4               2\n",
       "AcceptedCmp5               2\n",
       "AcceptedCmp1               2\n",
       "AcceptedCmp2               2\n",
       "Complain                   2\n",
       "Z_CostContact              1\n",
       "Z_Revenue                  1\n",
       "Response                   2\n",
       "Age                       56\n",
       "Customer_Days            662\n",
       "marital_Divorced           2\n",
       "marital_Married            2\n",
       "marital_Single             2\n",
       "marital_Together           2\n",
       "marital_Widow              2\n",
       "education_2n Cycle         2\n",
       "education_Basic            2\n",
       "education_Graduation       2\n",
       "education_Master           2\n",
       "education_PhD              2\n",
       "MntTotal                 897\n",
       "MntRegularProds          974\n",
       "AcceptedCmpOverall         5\n",
       "dtype: int64"
      ]
     },
     "execution_count": 10,
     "metadata": {},
     "output_type": "execute_result"
    }
   ],
   "source": [
    "data.nunique()\n"
   ]
  },
  {
   "cell_type": "code",
   "execution_count": 11,
   "metadata": {},
   "outputs": [],
   "source": [
    "data.drop(columns=['Z_CostContact','Z_Revenue'],inplace=True)"
   ]
  },
  {
   "cell_type": "markdown",
   "metadata": {},
   "source": [
    "## Data Exploration\n",
    "#### In this section:\n",
    "\n",
    "#### Box plot for the total amount spent on all products (MntTotal)\n",
    "#### Outliers\n",
    "#### Box plot and histogram for income\n",
    "#### Histogram for age\n",
    "#### Correlation matrix\n",
    "#### Point-Biserial correlations for binary variables\n",
    "### Box plot for the total amount spent on all products (MntTotal)¶\n",
    "#### Our analysis will be focused on total amount spent on all products (MntTotal). Boxplot will help us to find outliers if any"
   ]
  },
  {
   "cell_type": "code",
   "execution_count": 12,
   "metadata": {},
   "outputs": [
    {
     "data": {
      "image/png": "[encoded data removed]",
      "text/plain": [
       "<Figure size 600x400 with 1 Axes>"
      ]
     },
     "metadata": {},
     "output_type": "display_data"
    }
   ],
   "source": [
    "plt.figure(figsize=(6, 4))  \n",
    "sns.boxplot(data=data, y='MntTotal')\n",
    "plt.title('Box Plot for MntTotal')\n",
    "plt.ylabel('MntTotal')\n",
    "plt.show()"
   ]
  },
  {
   "cell_type": "markdown",
   "metadata": {},
   "source": [
    "## Outliers\n",
    "#### The box plot spotted a few outliers in the MntTotal. Let's take a closer look at the outliers."
   ]
  },
  {
   "cell_type": "code",
   "execution_count": 13,
   "metadata": {},
   "outputs": [
    {
     "data": {
      "text/html": [
       "<div>\n",
       "<style scoped>\n",
       "    .dataframe tbody tr th:only-of-type {\n",
       "        vertical-align: middle;\n",
       "    }\n",
       "\n",
       "    .dataframe tbody tr th {\n",
       "        vertical-align: top;\n",
       "    }\n",
       "\n",
       "    .dataframe thead th {\n",
       "        text-align: right;\n",
       "    }\n",
       "</style>\n",
       "<table border=\"1\" class=\"dataframe\">\n",
       "  <thead>\n",
       "    <tr style=\"text-align: right;\">\n",
       "      <th></th>\n",
       "      <th>Income</th>\n",
       "      <th>Kidhome</th>\n",
       "      <th>Teenhome</th>\n",
       "      <th>Recency</th>\n",
       "      <th>MntWines</th>\n",
       "      <th>MntFruits</th>\n",
       "      <th>MntMeatProducts</th>\n",
       "      <th>MntFishProducts</th>\n",
       "      <th>MntSweetProducts</th>\n",
       "      <th>MntGoldProds</th>\n",
       "      <th>...</th>\n",
       "      <th>marital_Together</th>\n",
       "      <th>marital_Widow</th>\n",
       "      <th>education_2n Cycle</th>\n",
       "      <th>education_Basic</th>\n",
       "      <th>education_Graduation</th>\n",
       "      <th>education_Master</th>\n",
       "      <th>education_PhD</th>\n",
       "      <th>MntTotal</th>\n",
       "      <th>MntRegularProds</th>\n",
       "      <th>AcceptedCmpOverall</th>\n",
       "    </tr>\n",
       "  </thead>\n",
       "  <tbody>\n",
       "    <tr>\n",
       "      <th>1159</th>\n",
       "      <td>90638.0</td>\n",
       "      <td>0</td>\n",
       "      <td>0</td>\n",
       "      <td>29</td>\n",
       "      <td>1156</td>\n",
       "      <td>120</td>\n",
       "      <td>915</td>\n",
       "      <td>94</td>\n",
       "      <td>144</td>\n",
       "      <td>96</td>\n",
       "      <td>...</td>\n",
       "      <td>0</td>\n",
       "      <td>0</td>\n",
       "      <td>0</td>\n",
       "      <td>0</td>\n",
       "      <td>0</td>\n",
       "      <td>1</td>\n",
       "      <td>0</td>\n",
       "      <td>2429</td>\n",
       "      <td>2333</td>\n",
       "      <td>1</td>\n",
       "    </tr>\n",
       "    <tr>\n",
       "      <th>1467</th>\n",
       "      <td>87679.0</td>\n",
       "      <td>0</td>\n",
       "      <td>0</td>\n",
       "      <td>62</td>\n",
       "      <td>1259</td>\n",
       "      <td>172</td>\n",
       "      <td>815</td>\n",
       "      <td>97</td>\n",
       "      <td>148</td>\n",
       "      <td>33</td>\n",
       "      <td>...</td>\n",
       "      <td>1</td>\n",
       "      <td>0</td>\n",
       "      <td>0</td>\n",
       "      <td>0</td>\n",
       "      <td>1</td>\n",
       "      <td>0</td>\n",
       "      <td>0</td>\n",
       "      <td>2491</td>\n",
       "      <td>2458</td>\n",
       "      <td>3</td>\n",
       "    </tr>\n",
       "    <tr>\n",
       "      <th>1547</th>\n",
       "      <td>90638.0</td>\n",
       "      <td>0</td>\n",
       "      <td>0</td>\n",
       "      <td>29</td>\n",
       "      <td>1156</td>\n",
       "      <td>120</td>\n",
       "      <td>915</td>\n",
       "      <td>94</td>\n",
       "      <td>144</td>\n",
       "      <td>96</td>\n",
       "      <td>...</td>\n",
       "      <td>0</td>\n",
       "      <td>0</td>\n",
       "      <td>0</td>\n",
       "      <td>0</td>\n",
       "      <td>0</td>\n",
       "      <td>1</td>\n",
       "      <td>0</td>\n",
       "      <td>2429</td>\n",
       "      <td>2333</td>\n",
       "      <td>1</td>\n",
       "    </tr>\n",
       "  </tbody>\n",
       "</table>\n",
       "<p>3 rows × 37 columns</p>\n",
       "</div>"
      ],
      "text/plain": [
       "       Income  Kidhome  Teenhome  Recency  MntWines  MntFruits  \\\n",
       "1159  90638.0        0         0       29      1156        120   \n",
       "1467  87679.0        0         0       62      1259        172   \n",
       "1547  90638.0        0         0       29      1156        120   \n",
       "\n",
       "      MntMeatProducts  MntFishProducts  MntSweetProducts  MntGoldProds  ...  \\\n",
       "1159              915               94               144            96  ...   \n",
       "1467              815               97               148            33  ...   \n",
       "1547              915               94               144            96  ...   \n",
       "\n",
       "      marital_Together  marital_Widow  education_2n Cycle  education_Basic  \\\n",
       "1159                 0              0                   0                0   \n",
       "1467                 1              0                   0                0   \n",
       "1547                 0              0                   0                0   \n",
       "\n",
       "      education_Graduation  education_Master  education_PhD  MntTotal  \\\n",
       "1159                     0                 1              0      2429   \n",
       "1467                     1                 0              0      2491   \n",
       "1547                     0                 1              0      2429   \n",
       "\n",
       "      MntRegularProds  AcceptedCmpOverall  \n",
       "1159             2333                   1  \n",
       "1467             2458                   3  \n",
       "1547             2333                   1  \n",
       "\n",
       "[3 rows x 37 columns]"
      ]
     },
     "execution_count": 13,
     "metadata": {},
     "output_type": "execute_result"
    }
   ],
   "source": [
    "Q1 = data['MntTotal'].quantile(0.25)\n",
    "Q3 = data['MntTotal'].quantile(0.75)\n",
    "IQR = Q3 - Q1\n",
    "lower_bound = Q1 - 1.5 * IQR\n",
    "upper_bound = Q3 + 1.5 * IQR\n",
    "outliers = data[(data['MntTotal'] < lower_bound) | (data['MntTotal'] > upper_bound)]\n",
    "outliers.head()"
   ]
  },
  {
   "cell_type": "markdown",
   "metadata": {},
   "source": [
    "#### Outliers removal"
   ]
  },
  {
   "cell_type": "code",
   "execution_count": 14,
   "metadata": {},
   "outputs": [
    {
     "data": {
      "text/html": [
       "<div>\n",
       "<style scoped>\n",
       "    .dataframe tbody tr th:only-of-type {\n",
       "        vertical-align: middle;\n",
       "    }\n",
       "\n",
       "    .dataframe tbody tr th {\n",
       "        vertical-align: top;\n",
       "    }\n",
       "\n",
       "    .dataframe thead th {\n",
       "        text-align: right;\n",
       "    }\n",
       "</style>\n",
       "<table border=\"1\" class=\"dataframe\">\n",
       "  <thead>\n",
       "    <tr style=\"text-align: right;\">\n",
       "      <th></th>\n",
       "      <th>Income</th>\n",
       "      <th>Kidhome</th>\n",
       "      <th>Teenhome</th>\n",
       "      <th>Recency</th>\n",
       "      <th>MntWines</th>\n",
       "      <th>MntFruits</th>\n",
       "      <th>MntMeatProducts</th>\n",
       "      <th>MntFishProducts</th>\n",
       "      <th>MntSweetProducts</th>\n",
       "      <th>MntGoldProds</th>\n",
       "      <th>...</th>\n",
       "      <th>marital_Together</th>\n",
       "      <th>marital_Widow</th>\n",
       "      <th>education_2n Cycle</th>\n",
       "      <th>education_Basic</th>\n",
       "      <th>education_Graduation</th>\n",
       "      <th>education_Master</th>\n",
       "      <th>education_PhD</th>\n",
       "      <th>MntTotal</th>\n",
       "      <th>MntRegularProds</th>\n",
       "      <th>AcceptedCmpOverall</th>\n",
       "    </tr>\n",
       "  </thead>\n",
       "  <tbody>\n",
       "    <tr>\n",
       "      <th>count</th>\n",
       "      <td>2202.000000</td>\n",
       "      <td>2202.000000</td>\n",
       "      <td>2202.000000</td>\n",
       "      <td>2202.000000</td>\n",
       "      <td>2202.000000</td>\n",
       "      <td>2202.000000</td>\n",
       "      <td>2202.000000</td>\n",
       "      <td>2202.000000</td>\n",
       "      <td>2202.000000</td>\n",
       "      <td>2202.000000</td>\n",
       "      <td>...</td>\n",
       "      <td>2202.000000</td>\n",
       "      <td>2202.000000</td>\n",
       "      <td>2202.000000</td>\n",
       "      <td>2202.000000</td>\n",
       "      <td>2202.000000</td>\n",
       "      <td>2202.000000</td>\n",
       "      <td>2202.000000</td>\n",
       "      <td>2202.000000</td>\n",
       "      <td>2202.000000</td>\n",
       "      <td>2202.000000</td>\n",
       "    </tr>\n",
       "    <tr>\n",
       "      <th>mean</th>\n",
       "      <td>51570.283379</td>\n",
       "      <td>0.442779</td>\n",
       "      <td>0.507266</td>\n",
       "      <td>49.021344</td>\n",
       "      <td>304.960036</td>\n",
       "      <td>26.252044</td>\n",
       "      <td>164.336058</td>\n",
       "      <td>37.678474</td>\n",
       "      <td>26.967302</td>\n",
       "      <td>44.014986</td>\n",
       "      <td>...</td>\n",
       "      <td>0.257493</td>\n",
       "      <td>0.034514</td>\n",
       "      <td>0.089918</td>\n",
       "      <td>0.024523</td>\n",
       "      <td>0.504995</td>\n",
       "      <td>0.164396</td>\n",
       "      <td>0.216167</td>\n",
       "      <td>560.193915</td>\n",
       "      <td>516.178928</td>\n",
       "      <td>0.297457</td>\n",
       "    </tr>\n",
       "    <tr>\n",
       "      <th>std</th>\n",
       "      <td>20679.438848</td>\n",
       "      <td>0.537250</td>\n",
       "      <td>0.544429</td>\n",
       "      <td>28.944211</td>\n",
       "      <td>336.135586</td>\n",
       "      <td>39.589747</td>\n",
       "      <td>216.312982</td>\n",
       "      <td>54.821185</td>\n",
       "      <td>40.926101</td>\n",
       "      <td>51.747221</td>\n",
       "      <td>...</td>\n",
       "      <td>0.437353</td>\n",
       "      <td>0.182587</td>\n",
       "      <td>0.286130</td>\n",
       "      <td>0.154702</td>\n",
       "      <td>0.500089</td>\n",
       "      <td>0.370719</td>\n",
       "      <td>0.411723</td>\n",
       "      <td>572.096830</td>\n",
       "      <td>549.962471</td>\n",
       "      <td>0.678134</td>\n",
       "    </tr>\n",
       "    <tr>\n",
       "      <th>min</th>\n",
       "      <td>1730.000000</td>\n",
       "      <td>0.000000</td>\n",
       "      <td>0.000000</td>\n",
       "      <td>0.000000</td>\n",
       "      <td>0.000000</td>\n",
       "      <td>0.000000</td>\n",
       "      <td>0.000000</td>\n",
       "      <td>0.000000</td>\n",
       "      <td>0.000000</td>\n",
       "      <td>0.000000</td>\n",
       "      <td>...</td>\n",
       "      <td>0.000000</td>\n",
       "      <td>0.000000</td>\n",
       "      <td>0.000000</td>\n",
       "      <td>0.000000</td>\n",
       "      <td>0.000000</td>\n",
       "      <td>0.000000</td>\n",
       "      <td>0.000000</td>\n",
       "      <td>4.000000</td>\n",
       "      <td>-283.000000</td>\n",
       "      <td>0.000000</td>\n",
       "    </tr>\n",
       "    <tr>\n",
       "      <th>25%</th>\n",
       "      <td>35182.500000</td>\n",
       "      <td>0.000000</td>\n",
       "      <td>0.000000</td>\n",
       "      <td>24.000000</td>\n",
       "      <td>24.000000</td>\n",
       "      <td>2.000000</td>\n",
       "      <td>16.000000</td>\n",
       "      <td>3.000000</td>\n",
       "      <td>1.000000</td>\n",
       "      <td>9.000000</td>\n",
       "      <td>...</td>\n",
       "      <td>0.000000</td>\n",
       "      <td>0.000000</td>\n",
       "      <td>0.000000</td>\n",
       "      <td>0.000000</td>\n",
       "      <td>0.000000</td>\n",
       "      <td>0.000000</td>\n",
       "      <td>0.000000</td>\n",
       "      <td>56.000000</td>\n",
       "      <td>42.000000</td>\n",
       "      <td>0.000000</td>\n",
       "    </tr>\n",
       "    <tr>\n",
       "      <th>50%</th>\n",
       "      <td>51258.500000</td>\n",
       "      <td>0.000000</td>\n",
       "      <td>0.000000</td>\n",
       "      <td>49.000000</td>\n",
       "      <td>176.500000</td>\n",
       "      <td>8.000000</td>\n",
       "      <td>68.000000</td>\n",
       "      <td>12.000000</td>\n",
       "      <td>8.000000</td>\n",
       "      <td>25.000000</td>\n",
       "      <td>...</td>\n",
       "      <td>0.000000</td>\n",
       "      <td>0.000000</td>\n",
       "      <td>0.000000</td>\n",
       "      <td>0.000000</td>\n",
       "      <td>1.000000</td>\n",
       "      <td>0.000000</td>\n",
       "      <td>0.000000</td>\n",
       "      <td>342.500000</td>\n",
       "      <td>288.000000</td>\n",
       "      <td>0.000000</td>\n",
       "    </tr>\n",
       "    <tr>\n",
       "      <th>75%</th>\n",
       "      <td>68146.500000</td>\n",
       "      <td>1.000000</td>\n",
       "      <td>1.000000</td>\n",
       "      <td>74.000000</td>\n",
       "      <td>505.000000</td>\n",
       "      <td>33.000000</td>\n",
       "      <td>230.750000</td>\n",
       "      <td>50.000000</td>\n",
       "      <td>33.000000</td>\n",
       "      <td>56.000000</td>\n",
       "      <td>...</td>\n",
       "      <td>1.000000</td>\n",
       "      <td>0.000000</td>\n",
       "      <td>0.000000</td>\n",
       "      <td>0.000000</td>\n",
       "      <td>1.000000</td>\n",
       "      <td>0.000000</td>\n",
       "      <td>0.000000</td>\n",
       "      <td>962.000000</td>\n",
       "      <td>883.000000</td>\n",
       "      <td>0.000000</td>\n",
       "    </tr>\n",
       "    <tr>\n",
       "      <th>max</th>\n",
       "      <td>113734.000000</td>\n",
       "      <td>2.000000</td>\n",
       "      <td>2.000000</td>\n",
       "      <td>99.000000</td>\n",
       "      <td>1493.000000</td>\n",
       "      <td>199.000000</td>\n",
       "      <td>1725.000000</td>\n",
       "      <td>259.000000</td>\n",
       "      <td>262.000000</td>\n",
       "      <td>321.000000</td>\n",
       "      <td>...</td>\n",
       "      <td>1.000000</td>\n",
       "      <td>1.000000</td>\n",
       "      <td>1.000000</td>\n",
       "      <td>1.000000</td>\n",
       "      <td>1.000000</td>\n",
       "      <td>1.000000</td>\n",
       "      <td>1.000000</td>\n",
       "      <td>2304.000000</td>\n",
       "      <td>2259.000000</td>\n",
       "      <td>4.000000</td>\n",
       "    </tr>\n",
       "  </tbody>\n",
       "</table>\n",
       "<p>8 rows × 37 columns</p>\n",
       "</div>"
      ],
      "text/plain": [
       "              Income      Kidhome     Teenhome      Recency     MntWines  \\\n",
       "count    2202.000000  2202.000000  2202.000000  2202.000000  2202.000000   \n",
       "mean    51570.283379     0.442779     0.507266    49.021344   304.960036   \n",
       "std     20679.438848     0.537250     0.544429    28.944211   336.135586   \n",
       "min      1730.000000     0.000000     0.000000     0.000000     0.000000   \n",
       "25%     35182.500000     0.000000     0.000000    24.000000    24.000000   \n",
       "50%     51258.500000     0.000000     0.000000    49.000000   176.500000   \n",
       "75%     68146.500000     1.000000     1.000000    74.000000   505.000000   \n",
       "max    113734.000000     2.000000     2.000000    99.000000  1493.000000   \n",
       "\n",
       "         MntFruits  MntMeatProducts  MntFishProducts  MntSweetProducts  \\\n",
       "count  2202.000000      2202.000000      2202.000000       2202.000000   \n",
       "mean     26.252044       164.336058        37.678474         26.967302   \n",
       "std      39.589747       216.312982        54.821185         40.926101   \n",
       "min       0.000000         0.000000         0.000000          0.000000   \n",
       "25%       2.000000        16.000000         3.000000          1.000000   \n",
       "50%       8.000000        68.000000        12.000000          8.000000   \n",
       "75%      33.000000       230.750000        50.000000         33.000000   \n",
       "max     199.000000      1725.000000       259.000000        262.000000   \n",
       "\n",
       "       MntGoldProds  ...  marital_Together  marital_Widow  education_2n Cycle  \\\n",
       "count   2202.000000  ...       2202.000000    2202.000000         2202.000000   \n",
       "mean      44.014986  ...          0.257493       0.034514            0.089918   \n",
       "std       51.747221  ...          0.437353       0.182587            0.286130   \n",
       "min        0.000000  ...          0.000000       0.000000            0.000000   \n",
       "25%        9.000000  ...          0.000000       0.000000            0.000000   \n",
       "50%       25.000000  ...          0.000000       0.000000            0.000000   \n",
       "75%       56.000000  ...          1.000000       0.000000            0.000000   \n",
       "max      321.000000  ...          1.000000       1.000000            1.000000   \n",
       "\n",
       "       education_Basic  education_Graduation  education_Master  education_PhD  \\\n",
       "count      2202.000000           2202.000000       2202.000000    2202.000000   \n",
       "mean          0.024523              0.504995          0.164396       0.216167   \n",
       "std           0.154702              0.500089          0.370719       0.411723   \n",
       "min           0.000000              0.000000          0.000000       0.000000   \n",
       "25%           0.000000              0.000000          0.000000       0.000000   \n",
       "50%           0.000000              1.000000          0.000000       0.000000   \n",
       "75%           0.000000              1.000000          0.000000       0.000000   \n",
       "max           1.000000              1.000000          1.000000       1.000000   \n",
       "\n",
       "          MntTotal  MntRegularProds  AcceptedCmpOverall  \n",
       "count  2202.000000      2202.000000         2202.000000  \n",
       "mean    560.193915       516.178928            0.297457  \n",
       "std     572.096830       549.962471            0.678134  \n",
       "min       4.000000      -283.000000            0.000000  \n",
       "25%      56.000000        42.000000            0.000000  \n",
       "50%     342.500000       288.000000            0.000000  \n",
       "75%     962.000000       883.000000            0.000000  \n",
       "max    2304.000000      2259.000000            4.000000  \n",
       "\n",
       "[8 rows x 37 columns]"
      ]
     },
     "execution_count": 14,
     "metadata": {},
     "output_type": "execute_result"
    }
   ],
   "source": [
    "data = data[(data['MntTotal'] > lower_bound) & (data['MntTotal'] < upper_bound)]\n",
    "data.describe()"
   ]
  },
  {
   "cell_type": "markdown",
   "metadata": {},
   "source": [
    "## Box plot and histogram for income¶\n"
   ]
  },
  {
   "cell_type": "code",
   "execution_count": 15,
   "metadata": {},
   "outputs": [
    {
     "data": {
      "image/png": "[encoded data removed]",
      "text/plain": [
       "<Figure size 600x400 with 1 Axes>"
      ]
     },
     "metadata": {},
     "output_type": "display_data"
    }
   ],
   "source": [
    "plt.figure(figsize=(6, 4))  \n",
    "sns.boxplot(data=data, y='Income', palette='viridis')\n",
    "plt.title('Box Plot for Income')\n",
    "plt.ylabel('Income')\n",
    "plt.show()"
   ]
  },
  {
   "cell_type": "code",
   "execution_count": 16,
   "metadata": {},
   "outputs": [
    {
     "data": {
      "image/png": "[encoded data removed]",
      "text/plain": [
       "<Figure size 800x600 with 1 Axes>"
      ]
     },
     "metadata": {},
     "output_type": "display_data"
    }
   ],
   "source": [
    "plt.figure(figsize=(8, 6))  \n",
    "sns.histplot(data=data, x='Income', bins=30, kde=True)\n",
    "plt.title('Histogram for Income')\n",
    "plt.xlabel('Income')\n",
    "plt.ylabel('Frequency')\n",
    "plt.show()"
   ]
  },
  {
   "cell_type": "markdown",
   "metadata": {},
   "source": [
    "#### Income distribution is close to normal distribution with no outliers.\n",
    "\n"
   ]
  },
  {
   "cell_type": "markdown",
   "metadata": {},
   "source": [
    "## Histogram for age"
   ]
  },
  {
   "cell_type": "code",
   "execution_count": 17,
   "metadata": {},
   "outputs": [
    {
     "data": {
      "image/png": "[encoded data removed]",
      "text/plain": [
       "<Figure size 800x600 with 1 Axes>"
      ]
     },
     "metadata": {},
     "output_type": "display_data"
    }
   ],
   "source": [
    "plt.figure(figsize=(8, 6))  \n",
    "sns.histplot(data=data, x='Age', bins=30, kde=True)\n",
    "plt.title('Histogram for Age')\n",
    "plt.xlabel('Age')\n",
    "plt.ylabel('Frequency')\n",
    "plt.show()"
   ]
  },
  {
   "cell_type": "code",
   "execution_count": 18,
   "metadata": {},
   "outputs": [
    {
     "name": "stdout",
     "output_type": "stream",
     "text": [
      "Skewness: 0.091227\n",
      "Kurtosis: -0.796125\n"
     ]
    }
   ],
   "source": [
    "print(\"Skewness: %f\" % data['Age'].skew())\n",
    "print(\"Kurtosis: %f\" % data['Age'].kurt())"
   ]
  },
  {
   "cell_type": "markdown",
   "metadata": {},
   "source": [
    "#### The age distribution looks approximately symmetrical and the left and right sides of distribution are roughly equal. Skewness of 0.09 (close to zero) supports the visual observation of the distribution. Kurtosis of -0.8 suggests that the distribution is close to normal with lighter tails and less peaked than a normal distribution."
   ]
  },
  {
   "cell_type": "markdown",
   "metadata": {},
   "source": [
    "## Correlation matrix\n",
    "\n",
    "#### There are many columns in the data. The correlation matrix will be very crowded if we use all columns of the data frame. We will group the columns and explore correlation between columns in each group and the column 'MntTotal'. We will focus on the column 'MntTotal' to understand how we can segment the customers who buy the most in overall. We can run similar analysis for every type of product."
   ]
  },
  {
   "cell_type": "code",
   "execution_count": 19,
   "metadata": {},
   "outputs": [],
   "source": [
    "cols_demographics = ['Income','Age']\n",
    "cols_children = ['Kidhome', 'Teenhome']\n",
    "cols_marital = ['marital_Divorced', 'marital_Married','marital_Single', 'marital_Together', 'marital_Widow']\n",
    "cols_mnt = ['MntTotal', 'MntRegularProds','MntWines', 'MntFruits', 'MntMeatProducts', 'MntFishProducts', 'MntSweetProducts', 'MntGoldProds']\n",
    "cols_communication = ['Complain', 'Response', 'Customer_Days']\n",
    "cols_campaigns = ['AcceptedCmpOverall', 'AcceptedCmp1', 'AcceptedCmp2', 'AcceptedCmp3', 'AcceptedCmp4', 'AcceptedCmp5']\n",
    "cols_source_of_purchase = ['NumDealsPurchases', 'NumWebPurchases','NumCatalogPurchases', 'NumStorePurchases', 'NumWebVisitsMonth']\n",
    "cols_education = ['education_2n Cycle', 'education_Basic', 'education_Graduation', 'education_Master', 'education_PhD']"
   ]
  },
  {
   "cell_type": "code",
   "execution_count": 20,
   "metadata": {},
   "outputs": [
    {
     "data": {
      "image/png": "[encoded data removed]",
      "text/plain": [
       "<Figure size 600x600 with 2 Axes>"
      ]
     },
     "metadata": {},
     "output_type": "display_data"
    }
   ],
   "source": [
    "corr_matrix = data[['MntTotal']+cols_demographics+cols_children].corr()\n",
    "plt.figure(figsize=(6,6))\n",
    "sns.heatmap(corr_matrix, annot=True, cmap='coolwarm', linewidths=0.5)\n",
    "plt.title('Correlation Matrix Heatmap')\n",
    "plt.show()\n"
   ]
  },
  {
   "cell_type": "markdown",
   "metadata": {},
   "source": [
    "##### MntTotal has strong positive correlation with income and intermediate negative correlation with Kidhome. Income feature has nearly the same negative correlation with Kidhome and MntTotal."
   ]
  },
  {
   "cell_type": "markdown",
   "metadata": {},
   "source": [
    "## Point-Biserial correlations for binary variable\n",
    "#### pearson correlation measures the strength and direction of a linear relationship between two continuous variables. We used Pearson correlation for MntTotal, Age and Income. When we try to understand the relationship between a continuous variable MntTotal and binary variables like marital status then we should use Point-Biserial Correlation Point-Biserial Correlation is used to measure the strength and direction of the linear relationship between a binary variable and a continuous variable."
   ]
  },
  {
   "cell_type": "code",
   "execution_count": 21,
   "metadata": {},
   "outputs": [
    {
     "name": "stdout",
     "output_type": "stream",
     "text": [
      "0.0053: Point-Biserial Correlation for marital_Divorced with p-value 0.8041\n",
      "-0.0188: Point-Biserial Correlation for marital_Married with p-value 0.3767\n",
      "0.0011: Point-Biserial Correlation for marital_Single with p-value 0.9571\n",
      "0.0008: Point-Biserial Correlation for marital_Together with p-value 0.9708\n",
      "0.0370: Point-Biserial Correlation for marital_Widow with p-value 0.0826\n"
     ]
    }
   ],
   "source": [
    "for col in cols_marital:\n",
    "    correlation, p_value = pointbiserialr(data[col], data['MntTotal'])\n",
    "    print(f'{correlation:.4f}: Point-Biserial Correlation for {col} with p-value {p_value:.4f}')    "
   ]
  },
  {
   "cell_type": "markdown",
   "metadata": {},
   "source": [
    "##### There is no strong Point-Biserial correlation between MntTotal and different marital statuses. Some feature engineering may be required during the modelling process."
   ]
  },
  {
   "cell_type": "code",
   "execution_count": 22,
   "metadata": {},
   "outputs": [
    {
     "name": "stdout",
     "output_type": "stream",
     "text": [
      "-0.0593: Point-Biserial Correlation for education_2n Cycle with p-value 0.0054\n",
      "-0.1389: Point-Biserial Correlation for education_Basic with p-value 0.0000\n",
      "0.0159: Point-Biserial Correlation for education_Graduation with p-value 0.4551\n",
      "0.0004: Point-Biserial Correlation for education_Master with p-value 0.9842\n",
      "0.0737: Point-Biserial Correlation for education_PhD with p-value 0.0005\n"
     ]
    }
   ],
   "source": [
    "for col in cols_education:\n",
    "    correlation, p_value = pointbiserialr(data[col], data['MntTotal'])\n",
    "    print(f'{correlation:.4f}: Point-Biserial Correlation for {col} with p-value {p_value:.4f}')   "
   ]
  },
  {
   "cell_type": "markdown",
   "metadata": {},
   "source": [
    "#### There is no strong Point-Biserial correlation between MntTotal and various education levels.\n",
    "\n",
    "\n"
   ]
  }
 ],
 "metadata": {
  "kernelspec": {
   "display_name": "venv",
   "language": "python",
   "name": "python3"
  },
  "language_info": {
   "codemirror_mode": {
    "name": "ipython",
    "version": 3
   },
   "file_extension": ".py",
   "mimetype": "text/x-python",
   "name": "python",
   "nbconvert_exporter": "python",
   "pygments_lexer": "ipython3",
   "version": "3.11.0"
  }
 },
 "nbformat": 4,
 "nbformat_minor": 2
}
